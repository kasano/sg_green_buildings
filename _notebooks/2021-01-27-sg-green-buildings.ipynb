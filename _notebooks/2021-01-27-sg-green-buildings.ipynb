{
 "cells": [
  {
   "cell_type": "code",
   "execution_count": null,
   "id": "focused-setup",
   "metadata": {},
   "outputs": [],
   "source": [
    "import pandas as pd,\\\n",
    "  plotly.express as px\n",
    "\n",
    "from pandas_profiling import ProfileReport"
   ]
  },
  {
   "cell_type": "code",
   "execution_count": null,
   "id": "sapphire-liechtenstein",
   "metadata": {},
   "outputs": [],
   "source": [
    "df_buildings = pd.read_excel(\n",
    "  io='../data/list_of_building_energy_performance_data_for_2019.xlsx',\n",
    "  sheet_name='SearchSubmissionResult(20201806',\n",
    "  index_col=None,\n",
    "  header=0\n",
    ")"
   ]
  },
  {
   "cell_type": "code",
   "execution_count": null,
   "id": "common-checkout",
   "metadata": {},
   "outputs": [],
   "source": [
    "profile_buildings = ProfileReport(\n",
    "  df=df_buildings,\n",
    "  title=\"Buildings: Pandas Profiling Report\",\n",
    "  explorative=True\n",
    ")"
   ]
  }
 ],
 "metadata": {
  "kernelspec": {
   "display_name": "Python 3",
   "language": "python",
   "name": "python3"
  },
  "language_info": {
   "codemirror_mode": {
    "name": "ipython",
    "version": 3
   },
   "file_extension": ".py",
   "mimetype": "text/x-python",
   "name": "python",
   "nbconvert_exporter": "python",
   "pygments_lexer": "ipython3",
   "version": "3.8.5"
  }
 },
 "nbformat": 4,
 "nbformat_minor": 5
}
